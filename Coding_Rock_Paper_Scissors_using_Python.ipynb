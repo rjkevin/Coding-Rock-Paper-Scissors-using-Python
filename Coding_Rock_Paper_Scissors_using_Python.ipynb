{
  "nbformat": 4,
  "nbformat_minor": 0,
  "metadata": {
    "colab": {
      "name": "Coding Rock Paper Scissors using Python",
      "provenance": [],
      "authorship_tag": "ABX9TyOcCCwsu6bZiYnXm5qkf0LM",
      "include_colab_link": true
    },
    "kernelspec": {
      "name": "python3",
      "display_name": "Python 3"
    },
    "language_info": {
      "name": "python"
    }
  },
  "cells": [
    {
      "cell_type": "markdown",
      "metadata": {
        "id": "view-in-github",
        "colab_type": "text"
      },
      "source": [
        "<a href=\"https://colab.research.google.com/github/rjkevin/Coding-Rock-Paper-Scissors-using-Python/blob/main/Coding_Rock_Paper_Scissors_using_Python.ipynb\" target=\"_parent\"><img src=\"https://colab.research.google.com/assets/colab-badge.svg\" alt=\"Open In Colab\"/></a>"
      ]
    },
    {
      "cell_type": "markdown",
      "metadata": {
        "id": "-HnkJKpaYLAJ"
      },
      "source": [
        "## Learning Outcomes:\n",
        "\n",
        "* input ( )\n",
        "* Data types \n",
        "* if conditions\n",
        "* Comparion operators & limitation of using string comparators\n",
        "* Loops - while loops\n",
        "* Object Orientated Programming \n",
        "* Function \n",
        "* Control statements - break and continue\n",
        "* Exception handling\n",
        "* Basic string formating \n",
        "* Modules - random and enum \n",
        "\n",
        "\n"
      ]
    },
    {
      "cell_type": "markdown",
      "metadata": {
        "id": "b9K9B5xJ6Cle"
      },
      "source": [
        "Import Random \n",
        "- Random module allows the computer to choose a pseudorandom value"
      ]
    },
    {
      "cell_type": "markdown",
      "metadata": {
        "id": "1eU7XjEMZGWY"
      },
      "source": [
        "## Option 1:"
      ]
    },
    {
      "cell_type": "code",
      "metadata": {
        "id": "tbpSWfmL52uV"
      },
      "source": [
        "import random "
      ],
      "execution_count": null,
      "outputs": []
    },
    {
      "cell_type": "code",
      "metadata": {
        "id": "16A8H1N_6Qqr"
      },
      "source": [
        "\n",
        "user_action = input('Enter your choice (rock, paper or scissors: ')\n",
        "\n",
        "\n",
        "possible_action = ['rock', 'paper', 'scissors']\n",
        "computer_action = random.choice(possible_action) # randomize computer's action \n",
        "\n",
        "print(\"\\nYou chose {}, computer chose {}.\".format(user_action,computer_action)) # code breaks here because of misspelling,Upper case etc\n",
        "\n",
        "#Using string comparison could lead to problem whereby users keys in different possibilites of inputs which might not be what we expect\n",
        "if user_action == computer_action:\n",
        "  print( 'Both players selected',user_action,' That\\'s tie!')\n",
        "\n",
        "elif user_action == 'rock':\n",
        "  if computer_action =='scissors':\n",
        "    print('Rock smash scissors!')\n",
        "    print('You Win!')\n",
        "  else:\n",
        "    print('You lose!')\n",
        "\n",
        "elif user_action == 'paper':\n",
        "  if computer_action =='rock':\n",
        "    print('Paper covers rock')\n",
        "    print('You win!')\n",
        "  else:\n",
        "    print('You lose!')\n",
        "\n",
        "elif user_action == 'scissors':\n",
        "  if computer_action == 'paper':\n",
        "    print('Scissors cuts paper')\n",
        "    print(('You win!'))\n",
        "  else:\n",
        "    print('You lose!')\n",
        "\n",
        "\n",
        "# Start by asking how does a player wins?\n",
        "# possible user driven outcomes for victory are\n",
        "#Rock smashes scissors.\n",
        "#Paper covers rock.\n",
        "#Scissors cut paper."
      ],
      "execution_count": null,
      "outputs": []
    },
    {
      "cell_type": "markdown",
      "metadata": {
        "id": "jMueaPlXHuGJ"
      },
      "source": [
        "Using while loop to make sure the game runs in row and require users input to either continue or exit"
      ]
    },
    {
      "cell_type": "code",
      "metadata": {
        "id": "Bm14U-hWIDTW"
      },
      "source": [
        "while True:\n",
        "\n",
        "  user_action = input('\\nEnter your choice (rock, paper or scissors): ').lower()\n",
        "\n",
        "\n",
        "  possible_action = ['rock', 'paper', 'scissors']\n",
        "  computer_action = random.choice(possible_action) # randomize computer's action \n",
        "\n",
        "  print(\"\\nYou chose {}, computer chose {}.\".format(user_action,computer_action))\n",
        "\n",
        "  if user_action == computer_action:\n",
        "    print( 'Both players selected',user_action,' That\\'s tie!')\n",
        "\n",
        "  elif user_action == 'rock':\n",
        "    if computer_action =='scissors':\n",
        "      print('Rock smash scissors!')\n",
        "      print('You Win!')\n",
        "    else:\n",
        "      print('You lose!')\n",
        "\n",
        "  elif user_action == 'paper':\n",
        "    if computer_action =='rock':\n",
        "      print('Paper covers rock')\n",
        "      print('You win!')\n",
        "    else:\n",
        "      print('You lose!')\n",
        "\n",
        "  elif user_action == 'scissors':\n",
        "    if computer_action == 'paper':\n",
        "      print('Scissors cuts paper')\n",
        "      print(('You win!'))\n",
        "    else:\n",
        "      print('You lose!')\n",
        "\n",
        "  play_again = input('\\nPlay again? (y/n): ')\n",
        "  if play_again.lower() != 'y':\n",
        "    break\n",
        "\n",
        "\n",
        "\n",
        "\n",
        "# Start by asking how does a player wins?\n",
        "# possible user driven outcomes for victory are\n",
        "#Rock smashes scissors.\n",
        "#Paper covers rock.\n",
        "#Scissors cut paper."
      ],
      "execution_count": null,
      "outputs": []
    },
    {
      "cell_type": "markdown",
      "metadata": {
        "id": "zIDCf-oUvvNX"
      },
      "source": [
        "## Limitation with string comparison"
      ]
    },
    {
      "cell_type": "code",
      "metadata": {
        "colab": {
          "base_uri": "https://localhost:8080/"
        },
        "id": "nMCbjwxatbAM",
        "outputId": "24630bc0-09fa-4823-bbcb-bc26b0bc6e2b"
      },
      "source": [
        "# string comparison can lead to problem if can avoid using them\n",
        "# to test this out you can counter check the ID\n",
        "\n",
        "a= ['Rock','rock','RoCK','ROCK']\n",
        "\n",
        "for x in a:\n",
        "  print(id(x))\n",
        "\n",
        "\n"
      ],
      "execution_count": null,
      "outputs": [
        {
          "output_type": "stream",
          "text": [
            "140127648446832\n",
            "140127642086896\n",
            "140127643668656\n",
            "140127643669680\n"
          ],
          "name": "stdout"
        }
      ]
    },
    {
      "cell_type": "code",
      "metadata": {
        "colab": {
          "base_uri": "https://localhost:8080/"
        },
        "id": "4xnLzuagu3Ma",
        "outputId": "677f2056-66bd-4ca4-d458-7821d781f6a4"
      },
      "source": [
        "for x in a:\n",
        "  print('rock'== x)"
      ],
      "execution_count": null,
      "outputs": [
        {
          "output_type": "stream",
          "text": [
            "False\n",
            "True\n",
            "False\n",
            "False\n"
          ],
          "name": "stdout"
        }
      ]
    },
    {
      "cell_type": "markdown",
      "metadata": {
        "id": "XftoZITvXwxg"
      },
      "source": [
        "## Option 2:"
      ]
    },
    {
      "cell_type": "markdown",
      "metadata": {
        "id": "W6pm1cZ6v0tI"
      },
      "source": [
        "Use numbers to reference certain user actions"
      ]
    },
    {
      "cell_type": "code",
      "metadata": {
        "id": "-n5lQQDmuixq"
      },
      "source": [
        "import random\n",
        "from enum import IntEnum\n",
        "\n",
        "class Action(IntEnum):\n",
        "  Rock = 0 \n",
        "  Paper = 1\n",
        "  Scissors = 2\n",
        "\n",
        "def get_user_selection():\n",
        "  user_input = input('Enter a choice (rock[0], paper [1], scissors[2]: ') # what if you have more than 3 choices??\n",
        "  selection = int(user_input)\n",
        "  action = Action(selection)\n",
        "  return action\n",
        "\n"
      ],
      "execution_count": null,
      "outputs": []
    },
    {
      "cell_type": "markdown",
      "metadata": {
        "id": "WY4ws6kSEukN"
      },
      "source": [
        "### Creating a class "
      ]
    },
    {
      "cell_type": "code",
      "metadata": {
        "id": "cCZcjKS6wwkN"
      },
      "source": [
        "import random\n",
        "from enum import IntEnum\n",
        "\n",
        "class Action(IntEnum): \n",
        "  Rock = 0 \n",
        "  Paper = 1\n",
        "  Scissors = 2\n"
      ],
      "execution_count": null,
      "outputs": []
    },
    {
      "cell_type": "markdown",
      "metadata": {
        "id": "To9Dex-qF0X6"
      },
      "source": [
        "### Creating a function for user input"
      ]
    },
    {
      "cell_type": "code",
      "metadata": {
        "id": "LZ1vh0lH408S",
        "colab": {
          "base_uri": "https://localhost:8080/"
        },
        "outputId": "32813a51-d10c-4511-c829-c05f0be9ebbb"
      },
      "source": [
        "def get_user_selection():\n",
        "    choices = [f\"{action.name}[{action.value}]\" for action in Action]\n",
        "    choices_str = \", \".join(choices)\n",
        "    selection = int(input(f\"Enter a choice ({choices_str}): \"))\n",
        "    action = Action(selection)\n",
        "    return action\n",
        "\n",
        "get_user_selection()"
      ],
      "execution_count": null,
      "outputs": [
        {
          "output_type": "stream",
          "text": [
            "Enter a choice (Rock[0], Paper[1], Scissors[2]): 2\n"
          ],
          "name": "stdout"
        },
        {
          "output_type": "execute_result",
          "data": {
            "text/plain": [
              "<Action.Scissors: 2>"
            ]
          },
          "metadata": {
            "tags": []
          },
          "execution_count": 38
        }
      ]
    },
    {
      "cell_type": "markdown",
      "metadata": {
        "id": "HrTtgifWF_DH"
      },
      "source": [
        "### Creating a function for computer input"
      ]
    },
    {
      "cell_type": "code",
      "metadata": {
        "id": "sf7_h5JH5R5y",
        "colab": {
          "base_uri": "https://localhost:8080/"
        },
        "outputId": "0c1e03fa-e0be-4e18-b2bf-3c70d3157d7c"
      },
      "source": [
        "def get_computer_selection():\n",
        "  selection = random.randint(0,len(Action)-1)\n",
        "  action = Action(selection)\n",
        "  return action\n",
        "\n",
        "get_computer_selection()"
      ],
      "execution_count": null,
      "outputs": [
        {
          "output_type": "execute_result",
          "data": {
            "text/plain": [
              "<Action.Scissors: 2>"
            ]
          },
          "metadata": {
            "tags": []
          },
          "execution_count": 37
        }
      ]
    },
    {
      "cell_type": "markdown",
      "metadata": {
        "id": "VIey62hIGDWp"
      },
      "source": [
        "### Creating a function to determine the winner"
      ]
    },
    {
      "cell_type": "code",
      "metadata": {
        "id": "Z8KqAKzHGBqS"
      },
      "source": [
        "def determine_winner(user_action,computer_action):\n",
        "  if user_action == computer_action:\n",
        "    print(f\"Both players selected {user_action.name}.It's a tie!\")\n",
        "  \n",
        "  elif user_action == Action.Rock:\n",
        "    if computer_action == Action.Scissors:\n",
        "      print(\"Rock smashes scissors! You win!\")\n",
        "    else:\n",
        "      print(\"Paper covers rock! You lose.\")\n",
        "\n",
        "  elif user_action == Action.Paper:\n",
        "    if computer_action == Action.Rock:\n",
        "      print(\"Paper covers rock! You win!\")\n",
        "    else:\n",
        "      print(\"Scissors cuts paper! You lose.\")\n",
        "\n",
        "  elif user_action == Action.Scissors:\n",
        "    if computer_action == Action.Paper:\n",
        "      print(\"Scissors cuts paper! You win!\")\n",
        "    else:\n",
        "      print(\"Rocks smashes scissors! You lose.\")\n",
        "\n",
        "      "
      ],
      "execution_count": null,
      "outputs": []
    },
    {
      "cell_type": "code",
      "metadata": {
        "id": "D_IN_IDfIYNI"
      },
      "source": [
        "determine_winner(Action.Rock,Action.Paper)"
      ],
      "execution_count": null,
      "outputs": []
    },
    {
      "cell_type": "markdown",
      "metadata": {
        "id": "aWqIuoaOFs9i"
      },
      "source": [
        "### Final Product"
      ]
    },
    {
      "cell_type": "code",
      "metadata": {
        "colab": {
          "base_uri": "https://localhost:8080/"
        },
        "id": "5cW0TEFEJOMN",
        "outputId": "f9304ea6-5d5d-4b72-df2f-254aa4ab19f0"
      },
      "source": [
        "while True:\n",
        "  try:\n",
        "    user_action = get_user_selection()\n",
        "  except ValueError as e:\n",
        "    range_str =f\"[0 and {len(Action)- 1}]\"\n",
        "    print(f\"Invalid selection. Enter a value in range between {range_str}\")\n",
        "    continue \n",
        "\n",
        "  computer_action= get_computer_selection()\n",
        "  determine_winner(user_action,computer_action)\n",
        "\n",
        "  play_again = input(\"Play again? (y/n) : \")\n",
        "  if play_again.lower() != \"y\":\n",
        "    break"
      ],
      "execution_count": null,
      "outputs": [
        {
          "output_type": "stream",
          "text": [
            "Enter a choice (Rock[0], Paper[1], Scissors[2]): 1\n",
            "Scissors cuts paper! You lose.\n",
            "Play again? (y/n) : Y\n",
            "Enter a choice (Rock[0], Paper[1], Scissors[2]): 2\n",
            "Scissors cuts paper! You win!\n",
            "Play again? (y/n) : N\n"
          ],
          "name": "stdout"
        }
      ]
    }
  ]
}